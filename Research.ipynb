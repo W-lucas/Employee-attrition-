{
 "cells": [
  {
   "cell_type": "markdown",
   "metadata": {
    "colab": {
     "base_uri": "https://localhost:8080/"
    },
    "id": "cdSQn64LyJoL",
    "outputId": "df5f9ea5-d52c-4722-a557-7c31ea8bd436"
   },
   "source": [
    "# Analysis of articles publications"
   ]
  },
  {
   "cell_type": "code",
   "execution_count": 5,
   "metadata": {
    "id": "oQhvad1vyfBo"
   },
   "outputs": [],
   "source": [
    "# Importing of libraries\n",
    "import nltk\n",
    "import pandas as pd\n",
    "from matplotlib import  pyplot as plt\n",
    "from nltk.corpus import stopwords\n",
    "from textblob import TextBlob\n",
    "from nltk.tokenize import word_tokenize\n",
    "import seaborn as sns\n",
    "from nltk.util import ngrams\n",
    "import re\n",
    "import unicodedata\n",
    "import os\n",
    "sns.set_style(\"whitegrid\")"
   ]
  },
  {
   "cell_type": "code",
   "execution_count": 2,
   "metadata": {
    "colab": {
     "base_uri": "https://localhost:8080/"
    },
    "id": "lrV0DaTy58um",
    "outputId": "16c326cc-ef51-4be3-d46b-adebfc880202"
   },
   "outputs": [
    {
     "name": "stderr",
     "output_type": "stream",
     "text": [
      "[nltk_data] Downloading package stopwords to C:\\Users\\DELL LATITUDE\n",
      "[nltk_data]     E6410\\AppData\\Roaming\\nltk_data...\n",
      "[nltk_data]   Package stopwords is already up-to-date!\n",
      "[nltk_data] Downloading package punkt to C:\\Users\\DELL LATITUDE\n",
      "[nltk_data]     E6410\\AppData\\Roaming\\nltk_data...\n",
      "[nltk_data]   Package punkt is already up-to-date!\n",
      "[nltk_data] Downloading package wordnet to C:\\Users\\DELL LATITUDE\n",
      "[nltk_data]     E6410\\AppData\\Roaming\\nltk_data...\n",
      "[nltk_data]   Unzipping corpora\\wordnet.zip.\n"
     ]
    },
    {
     "data": {
      "text/plain": [
       "True"
      ]
     },
     "execution_count": 2,
     "metadata": {},
     "output_type": "execute_result"
    }
   ],
   "source": [
    "# Downloading stopwords library\n",
    "nltk.download('stopwords')\n",
    "nltk.download('punkt')\n",
    "nltk.download('wordnet')"
   ]
  },
  {
   "cell_type": "code",
   "execution_count": 6,
   "metadata": {},
   "outputs": [
    {
     "data": {
      "text/plain": [
       "'C:\\\\Users\\\\DELL LATITUDE E6410\\\\Downloads'"
      ]
     },
     "execution_count": 6,
     "metadata": {},
     "output_type": "execute_result"
    }
   ],
   "source": [
    "os.getcwd()"
   ]
  },
  {
   "cell_type": "code",
   "execution_count": 7,
   "metadata": {
    "colab": {
     "base_uri": "https://localhost:8080/",
     "height": 527
    },
    "id": "TMqOzyNxyool",
    "outputId": "e822bebe-3a45-404c-cfed-6c0104db346e"
   },
   "outputs": [],
   "source": [
    "business_source= pd.read_csv(\"514149837_BusinessSource.csv\")\n",
    "Taylor = pd.read_excel(\"1530549138_TaylorFrancis.xlsx\")\n",
    "Webof = pd.read_excel(\"174064709_WebofScience.xls\")\n",
    "Wiley = pd.read_excel(\"961449971_WileyOnline.xlsx\")"
   ]
  },
  {
   "cell_type": "code",
   "execution_count": 8,
   "metadata": {
    "id": "IUpyXb4qgBtK"
   },
   "outputs": [],
   "source": [
    "Taylor.rename(columns={'AU':'Author'},inplace=True)\n",
    "Webof.rename(columns={'Authors':'Author'},inplace=True)"
   ]
  },
  {
   "cell_type": "code",
   "execution_count": 9,
   "metadata": {
    "id": "sLaAk9DoyowK"
   },
   "outputs": [],
   "source": [
    "# Concateneting all the dataset\n",
    "data = pd.concat([business_source,Taylor,Webof,Wiley])"
   ]
  },
  {
   "cell_type": "code",
   "execution_count": 10,
   "metadata": {
    "colab": {
     "base_uri": "https://localhost:8080/",
     "height": 304
    },
    "id": "aqK7j3u94cZ3",
    "outputId": "16a8875e-7668-421a-885f-2068f6391014"
   },
   "outputs": [
    {
     "data": {
      "text/html": [
       "<div>\n",
       "<style scoped>\n",
       "    .dataframe tbody tr th:only-of-type {\n",
       "        vertical-align: middle;\n",
       "    }\n",
       "\n",
       "    .dataframe tbody tr th {\n",
       "        vertical-align: top;\n",
       "    }\n",
       "\n",
       "    .dataframe thead th {\n",
       "        text-align: right;\n",
       "    }\n",
       "</style>\n",
       "<table border=\"1\" class=\"dataframe\">\n",
       "  <thead>\n",
       "    <tr style=\"text-align: right;\">\n",
       "      <th></th>\n",
       "      <th>Article Title</th>\n",
       "      <th>Author</th>\n",
       "      <th>Journal Title</th>\n",
       "      <th>ISSN</th>\n",
       "      <th>ISBN</th>\n",
       "      <th>Publication Date</th>\n",
       "      <th>Volume</th>\n",
       "      <th>Issue</th>\n",
       "      <th>First Page</th>\n",
       "      <th>Page Count</th>\n",
       "      <th>...</th>\n",
       "      <th>Pubmed Id</th>\n",
       "      <th>Open Access Designations</th>\n",
       "      <th>Highly Cited Status</th>\n",
       "      <th>Hot Paper Status</th>\n",
       "      <th>Date of Export</th>\n",
       "      <th>Unnamed: 67</th>\n",
       "      <th>KW</th>\n",
       "      <th>JA</th>\n",
       "      <th>C8</th>\n",
       "      <th>AB</th>\n",
       "    </tr>\n",
       "  </thead>\n",
       "  <tbody>\n",
       "    <tr>\n",
       "      <th>0</th>\n",
       "      <td>A Model of Business Response to Climate Change...</td>\n",
       "      <td>Ray, Subhasis</td>\n",
       "      <td>Vilakshan: The XIMB Journal of Management</td>\n",
       "      <td>=\"09731954\"</td>\n",
       "      <td>NaN</td>\n",
       "      <td>=\"Sep2013\"</td>\n",
       "      <td>10.0</td>\n",
       "      <td>2</td>\n",
       "      <td>113.0</td>\n",
       "      <td>12.0</td>\n",
       "      <td>...</td>\n",
       "      <td>NaN</td>\n",
       "      <td>NaN</td>\n",
       "      <td>NaN</td>\n",
       "      <td>NaN</td>\n",
       "      <td>NaN</td>\n",
       "      <td>NaN</td>\n",
       "      <td>NaN</td>\n",
       "      <td>NaN</td>\n",
       "      <td>NaN</td>\n",
       "      <td>NaN</td>\n",
       "    </tr>\n",
       "    <tr>\n",
       "      <th>1</th>\n",
       "      <td>A multilevel approach for assessing business s...</td>\n",
       "      <td>Paul, Arijit; Lang, Jonas W.B.; Baumgartner, R...</td>\n",
       "      <td>Journal of Cleaner Production</td>\n",
       "      <td>=\"09596526\"</td>\n",
       "      <td>NaN</td>\n",
       "      <td>=\"Sep2017\"</td>\n",
       "      <td>160.0</td>\n",
       "      <td>NaN</td>\n",
       "      <td>50.0</td>\n",
       "      <td>21.0</td>\n",
       "      <td>...</td>\n",
       "      <td>NaN</td>\n",
       "      <td>NaN</td>\n",
       "      <td>NaN</td>\n",
       "      <td>NaN</td>\n",
       "      <td>NaN</td>\n",
       "      <td>NaN</td>\n",
       "      <td>NaN</td>\n",
       "      <td>NaN</td>\n",
       "      <td>NaN</td>\n",
       "      <td>NaN</td>\n",
       "    </tr>\n",
       "    <tr>\n",
       "      <th>2</th>\n",
       "      <td>ADAPTATION TO CLIMATE CHANGE AND INTEGRATION O...</td>\n",
       "      <td>XAVIER NICOLLETTI, MARIANA; CAMOLESI GUIMARÃES...</td>\n",
       "      <td>Ad-minister</td>\n",
       "      <td>=\"16920279\"</td>\n",
       "      <td>NaN</td>\n",
       "      <td>=\"ene-jun2016\"</td>\n",
       "      <td>NaN</td>\n",
       "      <td>28</td>\n",
       "      <td>91.0</td>\n",
       "      <td>36.0</td>\n",
       "      <td>...</td>\n",
       "      <td>NaN</td>\n",
       "      <td>NaN</td>\n",
       "      <td>NaN</td>\n",
       "      <td>NaN</td>\n",
       "      <td>NaN</td>\n",
       "      <td>NaN</td>\n",
       "      <td>NaN</td>\n",
       "      <td>NaN</td>\n",
       "      <td>NaN</td>\n",
       "      <td>NaN</td>\n",
       "    </tr>\n",
       "    <tr>\n",
       "      <th>3</th>\n",
       "      <td>After the green gold rush: the construction of...</td>\n",
       "      <td>Janković, Vladimir; Bowman, Andrew</td>\n",
       "      <td>Economy &amp; Society</td>\n",
       "      <td>=\"03085147\"</td>\n",
       "      <td>NaN</td>\n",
       "      <td>=\"May2014\"</td>\n",
       "      <td>43.0</td>\n",
       "      <td>2</td>\n",
       "      <td>233.0</td>\n",
       "      <td>27.0</td>\n",
       "      <td>...</td>\n",
       "      <td>NaN</td>\n",
       "      <td>NaN</td>\n",
       "      <td>NaN</td>\n",
       "      <td>NaN</td>\n",
       "      <td>NaN</td>\n",
       "      <td>NaN</td>\n",
       "      <td>NaN</td>\n",
       "      <td>NaN</td>\n",
       "      <td>NaN</td>\n",
       "      <td>NaN</td>\n",
       "    </tr>\n",
       "    <tr>\n",
       "      <th>4</th>\n",
       "      <td>BUSINESS AND CLIMATE CHANGE: TRENDS, ISSUES AN...</td>\n",
       "      <td>Iqbal, Badar Alam; Hassan, Munir; Rawat, Bhawa...</td>\n",
       "      <td>IBA Business Review</td>\n",
       "      <td>=\"19906587\"</td>\n",
       "      <td>NaN</td>\n",
       "      <td>=\"Jul-Dec2013\"</td>\n",
       "      <td>8.0</td>\n",
       "      <td>2</td>\n",
       "      <td>42.0</td>\n",
       "      <td>16.0</td>\n",
       "      <td>...</td>\n",
       "      <td>NaN</td>\n",
       "      <td>NaN</td>\n",
       "      <td>NaN</td>\n",
       "      <td>NaN</td>\n",
       "      <td>NaN</td>\n",
       "      <td>NaN</td>\n",
       "      <td>NaN</td>\n",
       "      <td>NaN</td>\n",
       "      <td>NaN</td>\n",
       "      <td>NaN</td>\n",
       "    </tr>\n",
       "  </tbody>\n",
       "</table>\n",
       "<p>5 rows × 100 columns</p>\n",
       "</div>"
      ],
      "text/plain": [
       "                                       Article Title  \\\n",
       "0  A Model of Business Response to Climate Change...   \n",
       "1  A multilevel approach for assessing business s...   \n",
       "2  ADAPTATION TO CLIMATE CHANGE AND INTEGRATION O...   \n",
       "3  After the green gold rush: the construction of...   \n",
       "4  BUSINESS AND CLIMATE CHANGE: TRENDS, ISSUES AN...   \n",
       "\n",
       "                                              Author  \\\n",
       "0                                      Ray, Subhasis   \n",
       "1  Paul, Arijit; Lang, Jonas W.B.; Baumgartner, R...   \n",
       "2  XAVIER NICOLLETTI, MARIANA; CAMOLESI GUIMARÃES...   \n",
       "3                 Janković, Vladimir; Bowman, Andrew   \n",
       "4  Iqbal, Badar Alam; Hassan, Munir; Rawat, Bhawa...   \n",
       "\n",
       "                               Journal Title         ISSN ISBN  \\\n",
       "0  Vilakshan: The XIMB Journal of Management  =\"09731954\"  NaN   \n",
       "1              Journal of Cleaner Production  =\"09596526\"  NaN   \n",
       "2                                Ad-minister  =\"16920279\"  NaN   \n",
       "3                          Economy & Society  =\"03085147\"  NaN   \n",
       "4                        IBA Business Review  =\"19906587\"  NaN   \n",
       "\n",
       "  Publication Date  Volume Issue  First Page  Page Count  ...  Pubmed Id  \\\n",
       "0       =\"Sep2013\"    10.0     2       113.0        12.0  ...        NaN   \n",
       "1       =\"Sep2017\"   160.0   NaN        50.0        21.0  ...        NaN   \n",
       "2   =\"ene-jun2016\"     NaN    28        91.0        36.0  ...        NaN   \n",
       "3       =\"May2014\"    43.0     2       233.0        27.0  ...        NaN   \n",
       "4   =\"Jul-Dec2013\"     8.0     2        42.0        16.0  ...        NaN   \n",
       "\n",
       "  Open Access Designations Highly Cited Status Hot Paper Status  \\\n",
       "0                      NaN                 NaN              NaN   \n",
       "1                      NaN                 NaN              NaN   \n",
       "2                      NaN                 NaN              NaN   \n",
       "3                      NaN                 NaN              NaN   \n",
       "4                      NaN                 NaN              NaN   \n",
       "\n",
       "  Date of Export Unnamed: 67   KW  JA    C8  AB   \n",
       "0            NaN         NaN  NaN  NaN  NaN  NaN  \n",
       "1            NaN         NaN  NaN  NaN  NaN  NaN  \n",
       "2            NaN         NaN  NaN  NaN  NaN  NaN  \n",
       "3            NaN         NaN  NaN  NaN  NaN  NaN  \n",
       "4            NaN         NaN  NaN  NaN  NaN  NaN  \n",
       "\n",
       "[5 rows x 100 columns]"
      ]
     },
     "execution_count": 10,
     "metadata": {},
     "output_type": "execute_result"
    }
   ],
   "source": [
    "data.head()"
   ]
  },
  {
   "cell_type": "code",
   "execution_count": 11,
   "metadata": {
    "id": "AAgCHqUr4ceQ"
   },
   "outputs": [],
   "source": [
    "# Data cleaning\n",
    "# Data extraction of abstracts\n",
    "stop=stopwords.words('english')\n",
    "\n"
   ]
  },
  {
   "cell_type": "code",
   "execution_count": 12,
   "metadata": {
    "colab": {
     "base_uri": "https://localhost:8080/",
     "height": 1000
    },
    "id": "ZBXlnNat9WlC",
    "outputId": "b3b6c3a6-9789-4cf3-df56-b5e2cd2eed96"
   },
   "outputs": [
    {
     "data": {
      "text/html": [
       "<div>\n",
       "<style scoped>\n",
       "    .dataframe tbody tr th:only-of-type {\n",
       "        vertical-align: middle;\n",
       "    }\n",
       "\n",
       "    .dataframe tbody tr th {\n",
       "        vertical-align: top;\n",
       "    }\n",
       "\n",
       "    .dataframe thead th {\n",
       "        text-align: right;\n",
       "    }\n",
       "</style>\n",
       "<table border=\"1\" class=\"dataframe\">\n",
       "  <thead>\n",
       "    <tr style=\"text-align: right;\">\n",
       "      <th></th>\n",
       "      <th>Article Title</th>\n",
       "      <th>Author</th>\n",
       "      <th>Journal Title</th>\n",
       "      <th>ISSN</th>\n",
       "      <th>ISBN</th>\n",
       "      <th>Publication Date</th>\n",
       "      <th>Volume</th>\n",
       "      <th>Issue</th>\n",
       "      <th>First Page</th>\n",
       "      <th>Page Count</th>\n",
       "      <th>...</th>\n",
       "      <th>Open Access Designations</th>\n",
       "      <th>Highly Cited Status</th>\n",
       "      <th>Hot Paper Status</th>\n",
       "      <th>Date of Export</th>\n",
       "      <th>Unnamed: 67</th>\n",
       "      <th>KW</th>\n",
       "      <th>JA</th>\n",
       "      <th>C8</th>\n",
       "      <th>AB</th>\n",
       "      <th>kwords_ws</th>\n",
       "    </tr>\n",
       "  </thead>\n",
       "  <tbody>\n",
       "    <tr>\n",
       "      <th>0</th>\n",
       "      <td>A Model of Business Response to Climate Change...</td>\n",
       "      <td>Ray, Subhasis</td>\n",
       "      <td>Vilakshan: The XIMB Journal of Management</td>\n",
       "      <td>=\"09731954\"</td>\n",
       "      <td>NaN</td>\n",
       "      <td>=\"Sep2013\"</td>\n",
       "      <td>10.0</td>\n",
       "      <td>2</td>\n",
       "      <td>113.0</td>\n",
       "      <td>12.0</td>\n",
       "      <td>...</td>\n",
       "      <td>NaN</td>\n",
       "      <td>NaN</td>\n",
       "      <td>NaN</td>\n",
       "      <td>NaN</td>\n",
       "      <td>NaN</td>\n",
       "      <td>NaN</td>\n",
       "      <td>NaN</td>\n",
       "      <td>NaN</td>\n",
       "      <td>NaN</td>\n",
       "      <td>business strategy</td>\n",
       "    </tr>\n",
       "    <tr>\n",
       "      <th>1</th>\n",
       "      <td>A multilevel approach for assessing business s...</td>\n",
       "      <td>Paul, Arijit; Lang, Jonas W.B.; Baumgartner, R...</td>\n",
       "      <td>Journal of Cleaner Production</td>\n",
       "      <td>=\"09596526\"</td>\n",
       "      <td>NaN</td>\n",
       "      <td>=\"Sep2017\"</td>\n",
       "      <td>160.0</td>\n",
       "      <td>NaN</td>\n",
       "      <td>50.0</td>\n",
       "      <td>21.0</td>\n",
       "      <td>...</td>\n",
       "      <td>NaN</td>\n",
       "      <td>NaN</td>\n",
       "      <td>NaN</td>\n",
       "      <td>NaN</td>\n",
       "      <td>NaN</td>\n",
       "      <td>NaN</td>\n",
       "      <td>NaN</td>\n",
       "      <td>NaN</td>\n",
       "      <td>NaN</td>\n",
       "      <td>business organizations; business strategy; cor...</td>\n",
       "    </tr>\n",
       "    <tr>\n",
       "      <th>2</th>\n",
       "      <td>ADAPTATION TO CLIMATE CHANGE AND INTEGRATION O...</td>\n",
       "      <td>XAVIER NICOLLETTI, MARIANA; CAMOLESI GUIMARÃES...</td>\n",
       "      <td>Ad-minister</td>\n",
       "      <td>=\"16920279\"</td>\n",
       "      <td>NaN</td>\n",
       "      <td>=\"ene-jun2016\"</td>\n",
       "      <td>NaN</td>\n",
       "      <td>28</td>\n",
       "      <td>91.0</td>\n",
       "      <td>36.0</td>\n",
       "      <td>...</td>\n",
       "      <td>NaN</td>\n",
       "      <td>NaN</td>\n",
       "      <td>NaN</td>\n",
       "      <td>NaN</td>\n",
       "      <td>NaN</td>\n",
       "      <td>NaN</td>\n",
       "      <td>NaN</td>\n",
       "      <td>NaN</td>\n",
       "      <td>NaN</td>\n",
       "      <td>adaptation; business education; disaster risk ...</td>\n",
       "    </tr>\n",
       "    <tr>\n",
       "      <th>3</th>\n",
       "      <td>After the green gold rush: the construction of...</td>\n",
       "      <td>Janković, Vladimir; Bowman, Andrew</td>\n",
       "      <td>Economy &amp; Society</td>\n",
       "      <td>=\"03085147\"</td>\n",
       "      <td>NaN</td>\n",
       "      <td>=\"May2014\"</td>\n",
       "      <td>43.0</td>\n",
       "      <td>2</td>\n",
       "      <td>233.0</td>\n",
       "      <td>27.0</td>\n",
       "      <td>...</td>\n",
       "      <td>NaN</td>\n",
       "      <td>NaN</td>\n",
       "      <td>NaN</td>\n",
       "      <td>NaN</td>\n",
       "      <td>NaN</td>\n",
       "      <td>NaN</td>\n",
       "      <td>NaN</td>\n",
       "      <td>NaN</td>\n",
       "      <td>NaN</td>\n",
       "      <td>business; climate change; economic crisis; gre...</td>\n",
       "    </tr>\n",
       "    <tr>\n",
       "      <th>4</th>\n",
       "      <td>BUSINESS AND CLIMATE CHANGE: TRENDS, ISSUES AN...</td>\n",
       "      <td>Iqbal, Badar Alam; Hassan, Munir; Rawat, Bhawa...</td>\n",
       "      <td>IBA Business Review</td>\n",
       "      <td>=\"19906587\"</td>\n",
       "      <td>NaN</td>\n",
       "      <td>=\"Jul-Dec2013\"</td>\n",
       "      <td>8.0</td>\n",
       "      <td>2</td>\n",
       "      <td>42.0</td>\n",
       "      <td>16.0</td>\n",
       "      <td>...</td>\n",
       "      <td>NaN</td>\n",
       "      <td>NaN</td>\n",
       "      <td>NaN</td>\n",
       "      <td>NaN</td>\n",
       "      <td>NaN</td>\n",
       "      <td>NaN</td>\n",
       "      <td>NaN</td>\n",
       "      <td>NaN</td>\n",
       "      <td>NaN</td>\n",
       "      <td>business; carbon emission; climate; ecological...</td>\n",
       "    </tr>\n",
       "  </tbody>\n",
       "</table>\n",
       "<p>5 rows × 101 columns</p>\n",
       "</div>"
      ],
      "text/plain": [
       "                                       Article Title  \\\n",
       "0  A Model of Business Response to Climate Change...   \n",
       "1  A multilevel approach for assessing business s...   \n",
       "2  ADAPTATION TO CLIMATE CHANGE AND INTEGRATION O...   \n",
       "3  After the green gold rush: the construction of...   \n",
       "4  BUSINESS AND CLIMATE CHANGE: TRENDS, ISSUES AN...   \n",
       "\n",
       "                                              Author  \\\n",
       "0                                      Ray, Subhasis   \n",
       "1  Paul, Arijit; Lang, Jonas W.B.; Baumgartner, R...   \n",
       "2  XAVIER NICOLLETTI, MARIANA; CAMOLESI GUIMARÃES...   \n",
       "3                 Janković, Vladimir; Bowman, Andrew   \n",
       "4  Iqbal, Badar Alam; Hassan, Munir; Rawat, Bhawa...   \n",
       "\n",
       "                               Journal Title         ISSN ISBN  \\\n",
       "0  Vilakshan: The XIMB Journal of Management  =\"09731954\"  NaN   \n",
       "1              Journal of Cleaner Production  =\"09596526\"  NaN   \n",
       "2                                Ad-minister  =\"16920279\"  NaN   \n",
       "3                          Economy & Society  =\"03085147\"  NaN   \n",
       "4                        IBA Business Review  =\"19906587\"  NaN   \n",
       "\n",
       "  Publication Date  Volume Issue  First Page  Page Count  ...  \\\n",
       "0       =\"Sep2013\"    10.0     2       113.0        12.0  ...   \n",
       "1       =\"Sep2017\"   160.0   NaN        50.0        21.0  ...   \n",
       "2   =\"ene-jun2016\"     NaN    28        91.0        36.0  ...   \n",
       "3       =\"May2014\"    43.0     2       233.0        27.0  ...   \n",
       "4   =\"Jul-Dec2013\"     8.0     2        42.0        16.0  ...   \n",
       "\n",
       "   Open Access Designations Highly Cited Status Hot Paper Status  \\\n",
       "0                       NaN                 NaN              NaN   \n",
       "1                       NaN                 NaN              NaN   \n",
       "2                       NaN                 NaN              NaN   \n",
       "3                       NaN                 NaN              NaN   \n",
       "4                       NaN                 NaN              NaN   \n",
       "\n",
       "  Date of Export Unnamed: 67   KW  JA    C8  AB   \\\n",
       "0            NaN         NaN  NaN  NaN  NaN  NaN   \n",
       "1            NaN         NaN  NaN  NaN  NaN  NaN   \n",
       "2            NaN         NaN  NaN  NaN  NaN  NaN   \n",
       "3            NaN         NaN  NaN  NaN  NaN  NaN   \n",
       "4            NaN         NaN  NaN  NaN  NaN  NaN   \n",
       "\n",
       "                                           kwords_ws  \n",
       "0                                  business strategy  \n",
       "1  business organizations; business strategy; cor...  \n",
       "2  adaptation; business education; disaster risk ...  \n",
       "3  business; climate change; economic crisis; gre...  \n",
       "4  business; carbon emission; climate; ecological...  \n",
       "\n",
       "[5 rows x 101 columns]"
      ]
     },
     "execution_count": 12,
     "metadata": {},
     "output_type": "execute_result"
    }
   ],
   "source": [
    "# Removing stoping words\n",
    "data['kwords_ws']=data['Keywords'].apply(lambda x: ' '.join([word.lower() for word in str(x).split() if word not in (stop)]))\n",
    "data.head()"
   ]
  },
  {
   "cell_type": "code",
   "execution_count": 13,
   "metadata": {
    "id": "B541W1DD7SKm"
   },
   "outputs": [],
   "source": [
    "# Use of textblob to count words\n",
    "blob=TextBlob(str(data['kwords_ws']))\n",
    "frequency= pd.DataFrame.from_dict(blob.word_counts,orient='index',columns=['count'])\n",
    "frequency.reset_index(inplace=True)"
   ]
  },
  {
   "cell_type": "code",
   "execution_count": 14,
   "metadata": {
    "id": "wS8VN2G3dR_n"
   },
   "outputs": [],
   "source": [
    "# Dropping non redunt words\n",
    "frequency1= frequency.drop([0,3,6,11,17,21,23,24,25,26,27,28,29,30,22,31,32])"
   ]
  },
  {
   "cell_type": "code",
   "execution_count": 15,
   "metadata": {
    "colab": {
     "base_uri": "https://localhost:8080/",
     "height": 669
    },
    "id": "WHT7ISkQ2uhR",
    "outputId": "fd20195c-c6c7-47b5-8433-69087d9a1fe3"
   },
   "outputs": [
    {
     "data": {
      "text/html": [
       "<div>\n",
       "<style scoped>\n",
       "    .dataframe tbody tr th:only-of-type {\n",
       "        vertical-align: middle;\n",
       "    }\n",
       "\n",
       "    .dataframe tbody tr th {\n",
       "        vertical-align: top;\n",
       "    }\n",
       "\n",
       "    .dataframe thead th {\n",
       "        text-align: right;\n",
       "    }\n",
       "</style>\n",
       "<table border=\"1\" class=\"dataframe\">\n",
       "  <thead>\n",
       "    <tr style=\"text-align: right;\">\n",
       "      <th></th>\n",
       "      <th>index</th>\n",
       "      <th>count</th>\n",
       "    </tr>\n",
       "  </thead>\n",
       "  <tbody>\n",
       "    <tr>\n",
       "      <th>1</th>\n",
       "      <td>business</td>\n",
       "      <td>6</td>\n",
       "    </tr>\n",
       "    <tr>\n",
       "      <th>2</th>\n",
       "      <td>strategy</td>\n",
       "      <td>2</td>\n",
       "    </tr>\n",
       "    <tr>\n",
       "      <th>4</th>\n",
       "      <td>organizations</td>\n",
       "      <td>1</td>\n",
       "    </tr>\n",
       "    <tr>\n",
       "      <th>5</th>\n",
       "      <td>cor</td>\n",
       "      <td>1</td>\n",
       "    </tr>\n",
       "    <tr>\n",
       "      <th>7</th>\n",
       "      <td>adaptation</td>\n",
       "      <td>1</td>\n",
       "    </tr>\n",
       "    <tr>\n",
       "      <th>8</th>\n",
       "      <td>education</td>\n",
       "      <td>1</td>\n",
       "    </tr>\n",
       "    <tr>\n",
       "      <th>9</th>\n",
       "      <td>disaster</td>\n",
       "      <td>1</td>\n",
       "    </tr>\n",
       "    <tr>\n",
       "      <th>10</th>\n",
       "      <td>risk</td>\n",
       "      <td>1</td>\n",
       "    </tr>\n",
       "    <tr>\n",
       "      <th>12</th>\n",
       "      <td>climate</td>\n",
       "      <td>2</td>\n",
       "    </tr>\n",
       "    <tr>\n",
       "      <th>13</th>\n",
       "      <td>change</td>\n",
       "      <td>1</td>\n",
       "    </tr>\n",
       "    <tr>\n",
       "      <th>14</th>\n",
       "      <td>economic</td>\n",
       "      <td>1</td>\n",
       "    </tr>\n",
       "    <tr>\n",
       "      <th>15</th>\n",
       "      <td>crisis</td>\n",
       "      <td>1</td>\n",
       "    </tr>\n",
       "    <tr>\n",
       "      <th>16</th>\n",
       "      <td>gre</td>\n",
       "      <td>1</td>\n",
       "    </tr>\n",
       "    <tr>\n",
       "      <th>18</th>\n",
       "      <td>carbon</td>\n",
       "      <td>1</td>\n",
       "    </tr>\n",
       "    <tr>\n",
       "      <th>19</th>\n",
       "      <td>emission</td>\n",
       "      <td>1</td>\n",
       "    </tr>\n",
       "    <tr>\n",
       "      <th>20</th>\n",
       "      <td>ecological</td>\n",
       "      <td>1</td>\n",
       "    </tr>\n",
       "  </tbody>\n",
       "</table>\n",
       "</div>"
      ],
      "text/plain": [
       "            index  count\n",
       "1        business      6\n",
       "2        strategy      2\n",
       "4   organizations      1\n",
       "5             cor      1\n",
       "7      adaptation      1\n",
       "8       education      1\n",
       "9        disaster      1\n",
       "10           risk      1\n",
       "12        climate      2\n",
       "13         change      1\n",
       "14       economic      1\n",
       "15         crisis      1\n",
       "16            gre      1\n",
       "18         carbon      1\n",
       "19       emission      1\n",
       "20     ecological      1"
      ]
     },
     "execution_count": 15,
     "metadata": {},
     "output_type": "execute_result"
    }
   ],
   "source": [
    "# Frequency of the first 20 words \n",
    "frequency2=frequency1[:20]\n",
    "frequency2"
   ]
  },
  {
   "cell_type": "code",
   "execution_count": 16,
   "metadata": {
    "colab": {
     "base_uri": "https://localhost:8080/",
     "height": 761
    },
    "id": "MFhi7jaZ6fi-",
    "outputId": "0234ef4a-48e0-4157-f8b2-3109296197d8"
   },
   "outputs": [
    {
     "data": {
      "image/png": "[encoded data removed]",
      "text/plain": [
       "<Figure size 432x288 with 1 Axes>"
      ]
     },
     "metadata": {},
     "output_type": "display_data"
    }
   ],
   "source": [
    "#Visualization of frequency of words\n",
    "plt.bar(frequency1['index'],frequency1['count'])\n",
    "plt.xlabel(\"Keyword\")\n",
    "plt.ylabel(\"Frequency\")\n",
    "plt.title(\"Keyword Frequency from all articles\")\n",
    "plt.xticks(rotation=90)\n",
    "plt.show();"
   ]
  },
  {
   "cell_type": "code",
   "execution_count": 17,
   "metadata": {
    "id": "svKwynaHxESH"
   },
   "outputs": [],
   "source": [
    "#Use of ngrams\n",
    "def basic_clean(text):\n",
    "  wnl = nltk.stem.WordNetLemmatizer()\n",
    "  stopwords = nltk.corpus.stopwords.words('english')\n",
    "  text = (unicodedata.normalize('NFKD', text)\n",
    "    .encode('ascii', 'ignore')\n",
    "    .decode('utf-8', 'ignore')\n",
    "    .lower())\n",
    "  words = re.sub(r'[^\\w\\s]', '', text).split()\n",
    "  return [wnl.lemmatize(word) for word in words if word not in stopwords]"
   ]
  },
  {
   "cell_type": "code",
   "execution_count": 18,
   "metadata": {
    "id": "q1ddfJuLyU5E"
   },
   "outputs": [],
   "source": [
    "words = basic_clean(''.join(str(data['Abstract'].tolist())))\n"
   ]
  },
  {
   "cell_type": "code",
   "execution_count": 19,
   "metadata": {
    "colab": {
     "base_uri": "https://localhost:8080/"
    },
    "id": "uGKgVDXv1VUN",
    "outputId": "a7cd1136-8f41-4f78-da2d-570efa445e70"
   },
   "outputs": [
    {
     "data": {
      "text/plain": [
       "['business',\n",
       " 'challenge',\n",
       " 'arising',\n",
       " 'climate',\n",
       " 'change',\n",
       " 'accelerating',\n",
       " 'faster',\n",
       " 'rate',\n",
       " 'ever',\n",
       " 'global',\n",
       " 'corporation',\n",
       " 'like',\n",
       " 'walmart',\n",
       " 'acknowledged',\n",
       " 'responded',\n",
       " 'challenge',\n",
       " 'wellarticulated',\n",
       " 'climate',\n",
       " 'strategy',\n",
       " 'indian']"
      ]
     },
     "execution_count": 19,
     "metadata": {},
     "output_type": "execute_result"
    }
   ],
   "source": [
    "words[:20]"
   ]
  },
  {
   "cell_type": "code",
   "execution_count": 20,
   "metadata": {
    "colab": {
     "base_uri": "https://localhost:8080/"
    },
    "id": "h4Raofwx1dR0",
    "outputId": "2c2200ba-5910-4a89-af6e-5d543b28c304"
   },
   "outputs": [
    {
     "data": {
      "text/plain": [
       "(climate, change)        385\n",
       "(copyright, applies)      30\n",
       "(article, individual)     30\n",
       "(listserv, without)       30\n",
       "(however, user)           30\n",
       "(material, full)          30\n",
       "(without, copyright)      30\n",
       "(email, article)          30\n",
       "(download, email)         30\n",
       "(use, abstract)           30\n",
       "dtype: int64"
      ]
     },
     "execution_count": 20,
     "metadata": {},
     "output_type": "execute_result"
    }
   ],
   "source": [
    "(pd.Series(nltk.ngrams(words, 2)).value_counts())[:10]"
   ]
  },
  {
   "cell_type": "code",
   "execution_count": 21,
   "metadata": {
    "id": "JXF0PgZf1lia"
   },
   "outputs": [],
   "source": [
    "bigrams_series = (pd.Series(nltk.ngrams(words, 2)).value_counts())[:12]\n",
    "trigrams_series = (pd.Series(nltk.ngrams(words, 3)).value_counts())[:12]"
   ]
  },
  {
   "cell_type": "code",
   "execution_count": 22,
   "metadata": {
    "colab": {
     "base_uri": "https://localhost:8080/",
     "height": 530
    },
    "id": "xdJ-quKw2El7",
    "outputId": "e1d355c9-7e2c-43a9-d982-0f472ebf7814"
   },
   "outputs": [
    {
     "data": {
      "text/plain": [
       "Text(0.5, 0, '# of Occurances')"
      ]
     },
     "execution_count": 22,
     "metadata": {},
     "output_type": "execute_result"
    },
    {
     "data": {
      "image/png": "[encoded data removed]",
      "text/plain": [
       "<Figure size 864x576 with 1 Axes>"
      ]
     },
     "metadata": {},
     "output_type": "display_data"
    }
   ],
   "source": [
    "bigrams_series.sort_values().plot.barh(color='blue', width=.9, figsize=(12, 8))\n",
    "plt.title('20 Most Frequently Occuring Bigrams')\n",
    "plt.ylabel('Bigram')\n",
    "plt.xlabel('# of Occurances')"
   ]
  },
  {
   "cell_type": "code",
   "execution_count": 23,
   "metadata": {
    "colab": {
     "base_uri": "https://localhost:8080/",
     "height": 421
    },
    "id": "gbqr3WeQDOHV",
    "outputId": "a895667d-4660-44a9-e29c-0c090b1d6594"
   },
   "outputs": [
    {
     "data": {
      "text/html": [
       "<div>\n",
       "<style scoped>\n",
       "    .dataframe tbody tr th:only-of-type {\n",
       "        vertical-align: middle;\n",
       "    }\n",
       "\n",
       "    .dataframe tbody tr th {\n",
       "        vertical-align: top;\n",
       "    }\n",
       "\n",
       "    .dataframe thead th {\n",
       "        text-align: right;\n",
       "    }\n",
       "</style>\n",
       "<table border=\"1\" class=\"dataframe\">\n",
       "  <thead>\n",
       "    <tr style=\"text-align: right;\">\n",
       "      <th></th>\n",
       "      <th>Publication Year</th>\n",
       "      <th>Sum_of_articles</th>\n",
       "    </tr>\n",
       "  </thead>\n",
       "  <tbody>\n",
       "    <tr>\n",
       "      <th>4</th>\n",
       "      <td>2010.0</td>\n",
       "      <td>2</td>\n",
       "    </tr>\n",
       "    <tr>\n",
       "      <th>5</th>\n",
       "      <td>2011.0</td>\n",
       "      <td>3</td>\n",
       "    </tr>\n",
       "    <tr>\n",
       "      <th>6</th>\n",
       "      <td>2012.0</td>\n",
       "      <td>7</td>\n",
       "    </tr>\n",
       "    <tr>\n",
       "      <th>7</th>\n",
       "      <td>2013.0</td>\n",
       "      <td>2</td>\n",
       "    </tr>\n",
       "    <tr>\n",
       "      <th>8</th>\n",
       "      <td>2014.0</td>\n",
       "      <td>5</td>\n",
       "    </tr>\n",
       "    <tr>\n",
       "      <th>9</th>\n",
       "      <td>2015.0</td>\n",
       "      <td>5</td>\n",
       "    </tr>\n",
       "    <tr>\n",
       "      <th>10</th>\n",
       "      <td>2016.0</td>\n",
       "      <td>9</td>\n",
       "    </tr>\n",
       "    <tr>\n",
       "      <th>11</th>\n",
       "      <td>2017.0</td>\n",
       "      <td>8</td>\n",
       "    </tr>\n",
       "    <tr>\n",
       "      <th>12</th>\n",
       "      <td>2018.0</td>\n",
       "      <td>4</td>\n",
       "    </tr>\n",
       "    <tr>\n",
       "      <th>13</th>\n",
       "      <td>2019.0</td>\n",
       "      <td>8</td>\n",
       "    </tr>\n",
       "    <tr>\n",
       "      <th>14</th>\n",
       "      <td>2020.0</td>\n",
       "      <td>11</td>\n",
       "    </tr>\n",
       "    <tr>\n",
       "      <th>15</th>\n",
       "      <td>2021.0</td>\n",
       "      <td>5</td>\n",
       "    </tr>\n",
       "  </tbody>\n",
       "</table>\n",
       "</div>"
      ],
      "text/plain": [
       "    Publication Year  Sum_of_articles\n",
       "4             2010.0                2\n",
       "5             2011.0                3\n",
       "6             2012.0                7\n",
       "7             2013.0                2\n",
       "8             2014.0                5\n",
       "9             2015.0                5\n",
       "10            2016.0                9\n",
       "11            2017.0                8\n",
       "12            2018.0                4\n",
       "13            2019.0                8\n",
       "14            2020.0               11\n",
       "15            2021.0                5"
      ]
     },
     "execution_count": 23,
     "metadata": {},
     "output_type": "execute_result"
    }
   ],
   "source": [
    "# How many articles were published each year\n",
    "# Date\n",
    "pub=(data.groupby(['Publication Year']).size().reset_index(name='Sum_of_articles'))[4:]\n",
    "pub"
   ]
  },
  {
   "cell_type": "code",
   "execution_count": 24,
   "metadata": {
    "colab": {
     "base_uri": "https://localhost:8080/",
     "height": 295
    },
    "id": "0XXL83nqHO3U",
    "outputId": "ee343e37-7706-4699-a06d-917259e26723"
   },
   "outputs": [
    {
     "data": {
      "image/png": "[encoded data removed]",
      "text/plain": [
       "<Figure size 432x288 with 1 Axes>"
      ]
     },
     "metadata": {},
     "output_type": "display_data"
    }
   ],
   "source": [
    "# Visualization of published per year\n",
    "plt.plot(pub['Publication Year'],pub['Sum_of_articles'])\n",
    "plt.xlabel(\"Publication year\")\n",
    "plt.ylabel(\"Sum of published articles\")\n",
    "plt.title(\"Activity analysis of published article per year\")\n",
    "plt.show();"
   ]
  },
  {
   "cell_type": "code",
   "execution_count": 32,
   "metadata": {
    "id": "9kVUcc6cDORX"
   },
   "outputs": [
    {
     "data": {
      "text/plain": [
       "Index(['Article Title', 'Author', 'Journal Title', 'ISSN', 'ISBN',\n",
       "       'Publication Date', 'Volume', 'Issue', 'First Page', 'Page Count',\n",
       "       ...\n",
       "       'Open Access Designations', 'Highly Cited Status', 'Hot Paper Status',\n",
       "       'Date of Export', 'Unnamed: 67', 'KW', 'JA ', 'C8', 'AB ', 'kwords_ws'],\n",
       "      dtype='object', length=101)"
      ]
     },
     "execution_count": 32,
     "metadata": {},
     "output_type": "execute_result"
    }
   ],
   "source": [
    "# Authors who were prominent\n",
    "data.columns"
   ]
  },
  {
   "cell_type": "code",
   "execution_count": 33,
   "metadata": {
    "colab": {
     "base_uri": "https://localhost:8080/",
     "height": 180
    },
    "id": "n0KbJLK_DOWL",
    "outputId": "f76b42d0-9bf5-43c6-bbe4-aa00c9547846"
   },
   "outputs": [
    {
     "data": {
      "text/html": [
       "<div>\n",
       "<style scoped>\n",
       "    .dataframe tbody tr th:only-of-type {\n",
       "        vertical-align: middle;\n",
       "    }\n",
       "\n",
       "    .dataframe tbody tr th {\n",
       "        vertical-align: top;\n",
       "    }\n",
       "\n",
       "    .dataframe thead th {\n",
       "        text-align: right;\n",
       "    }\n",
       "</style>\n",
       "<table border=\"1\" class=\"dataframe\">\n",
       "  <thead>\n",
       "    <tr style=\"text-align: right;\">\n",
       "      <th></th>\n",
       "      <th>Author</th>\n",
       "      <th>Publication Year</th>\n",
       "      <th>Sum_of_articles</th>\n",
       "    </tr>\n",
       "  </thead>\n",
       "  <tbody>\n",
       "    <tr>\n",
       "      <th>0</th>\n",
       "      <td>Alkaya, E; Bogurcu, M; Ulutas, F; Demirer, GN</td>\n",
       "      <td>2015.0</td>\n",
       "      <td>1</td>\n",
       "    </tr>\n",
       "    <tr>\n",
       "      <th>1</th>\n",
       "      <td>Amran, A; Ooi, SK; Nejati, M; Zulkafli, AH; Li...</td>\n",
       "      <td>2012.0</td>\n",
       "      <td>1</td>\n",
       "    </tr>\n",
       "    <tr>\n",
       "      <th>2</th>\n",
       "      <td>Amran, A; Ooi, SK; Wong, CY; Hashim, F</td>\n",
       "      <td>2016.0</td>\n",
       "      <td>1</td>\n",
       "    </tr>\n",
       "    <tr>\n",
       "      <th>3</th>\n",
       "      <td>Arbex, M; Batu, M</td>\n",
       "      <td>2020.0</td>\n",
       "      <td>1</td>\n",
       "    </tr>\n",
       "    <tr>\n",
       "      <th>4</th>\n",
       "      <td>Baranchenko, Y; Oglethorpe, D</td>\n",
       "      <td>2012.0</td>\n",
       "      <td>1</td>\n",
       "    </tr>\n",
       "    <tr>\n",
       "      <th>5</th>\n",
       "      <td>Beall, E; Brocklesby, J</td>\n",
       "      <td>2017.0</td>\n",
       "      <td>1</td>\n",
       "    </tr>\n",
       "    <tr>\n",
       "      <th>6</th>\n",
       "      <td>Becken, S; Wilson, J</td>\n",
       "      <td>2016.0</td>\n",
       "      <td>1</td>\n",
       "    </tr>\n",
       "    <tr>\n",
       "      <th>7</th>\n",
       "      <td>Begum, RA; Pereira, JJ</td>\n",
       "      <td>2015.0</td>\n",
       "      <td>1</td>\n",
       "    </tr>\n",
       "    <tr>\n",
       "      <th>8</th>\n",
       "      <td>Benites-Lazaro, LL; Gremaud, PA; Benites, LA</td>\n",
       "      <td>2018.0</td>\n",
       "      <td>1</td>\n",
       "    </tr>\n",
       "    <tr>\n",
       "      <th>9</th>\n",
       "      <td>Bicknell, S; Mcmanus, P</td>\n",
       "      <td>2006.0</td>\n",
       "      <td>1</td>\n",
       "    </tr>\n",
       "    <tr>\n",
       "      <th>10</th>\n",
       "      <td>Bohmelt, T</td>\n",
       "      <td>2013.0</td>\n",
       "      <td>1</td>\n",
       "    </tr>\n",
       "    <tr>\n",
       "      <th>11</th>\n",
       "      <td>Botzen, WJW; van den Bergh, JCJM; Bouwer, LM</td>\n",
       "      <td>2010.0</td>\n",
       "      <td>1</td>\n",
       "    </tr>\n",
       "    <tr>\n",
       "      <th>12</th>\n",
       "      <td>Bowden, V</td>\n",
       "      <td>2018.0</td>\n",
       "      <td>1</td>\n",
       "    </tr>\n",
       "    <tr>\n",
       "      <th>13</th>\n",
       "      <td>Bui, B; de Villiers, C</td>\n",
       "      <td>2017.0</td>\n",
       "      <td>1</td>\n",
       "    </tr>\n",
       "    <tr>\n",
       "      <th>14</th>\n",
       "      <td>Canevari-Luzardo, L</td>\n",
       "      <td>2020.0</td>\n",
       "      <td>1</td>\n",
       "    </tr>\n",
       "    <tr>\n",
       "      <th>15</th>\n",
       "      <td>Chin, N; Day, J; Sydnor, S; Prokopy, LS; Cherk...</td>\n",
       "      <td>2019.0</td>\n",
       "      <td>1</td>\n",
       "    </tr>\n",
       "    <tr>\n",
       "      <th>16</th>\n",
       "      <td>Chiu, YLA</td>\n",
       "      <td>2015.0</td>\n",
       "      <td>1</td>\n",
       "    </tr>\n",
       "    <tr>\n",
       "      <th>17</th>\n",
       "      <td>Cho, CH; Martens, ML; Kim, H; Rodrigue, M</td>\n",
       "      <td>2011.0</td>\n",
       "      <td>1</td>\n",
       "    </tr>\n",
       "    <tr>\n",
       "      <th>18</th>\n",
       "      <td>Coles, T; Zschiegner, AK; Dinan, C</td>\n",
       "      <td>2014.0</td>\n",
       "      <td>1</td>\n",
       "    </tr>\n",
       "    <tr>\n",
       "      <th>19</th>\n",
       "      <td>Comyns, B</td>\n",
       "      <td>2018.0</td>\n",
       "      <td>1</td>\n",
       "    </tr>\n",
       "  </tbody>\n",
       "</table>\n",
       "</div>"
      ],
      "text/plain": [
       "                                               Author  Publication Year  \\\n",
       "0       Alkaya, E; Bogurcu, M; Ulutas, F; Demirer, GN            2015.0   \n",
       "1   Amran, A; Ooi, SK; Nejati, M; Zulkafli, AH; Li...            2012.0   \n",
       "2              Amran, A; Ooi, SK; Wong, CY; Hashim, F            2016.0   \n",
       "3                                   Arbex, M; Batu, M            2020.0   \n",
       "4                       Baranchenko, Y; Oglethorpe, D            2012.0   \n",
       "5                             Beall, E; Brocklesby, J            2017.0   \n",
       "6                                Becken, S; Wilson, J            2016.0   \n",
       "7                              Begum, RA; Pereira, JJ            2015.0   \n",
       "8        Benites-Lazaro, LL; Gremaud, PA; Benites, LA            2018.0   \n",
       "9                             Bicknell, S; Mcmanus, P            2006.0   \n",
       "10                                         Bohmelt, T            2013.0   \n",
       "11       Botzen, WJW; van den Bergh, JCJM; Bouwer, LM            2010.0   \n",
       "12                                          Bowden, V            2018.0   \n",
       "13                             Bui, B; de Villiers, C            2017.0   \n",
       "14                                Canevari-Luzardo, L            2020.0   \n",
       "15  Chin, N; Day, J; Sydnor, S; Prokopy, LS; Cherk...            2019.0   \n",
       "16                                          Chiu, YLA            2015.0   \n",
       "17          Cho, CH; Martens, ML; Kim, H; Rodrigue, M            2011.0   \n",
       "18                 Coles, T; Zschiegner, AK; Dinan, C            2014.0   \n",
       "19                                          Comyns, B            2018.0   \n",
       "\n",
       "    Sum_of_articles  \n",
       "0                 1  \n",
       "1                 1  \n",
       "2                 1  \n",
       "3                 1  \n",
       "4                 1  \n",
       "5                 1  \n",
       "6                 1  \n",
       "7                 1  \n",
       "8                 1  \n",
       "9                 1  \n",
       "10                1  \n",
       "11                1  \n",
       "12                1  \n",
       "13                1  \n",
       "14                1  \n",
       "15                1  \n",
       "16                1  \n",
       "17                1  \n",
       "18                1  \n",
       "19                1  "
      ]
     },
     "execution_count": 33,
     "metadata": {},
     "output_type": "execute_result"
    }
   ],
   "source": [
    "aut=data.groupby(['Author','Publication Year']).size().reset_index(name='Sum_of_articles')[:20]\n",
    "aut"
   ]
  },
  {
   "cell_type": "code",
   "execution_count": 28,
   "metadata": {
    "id": "uHTmVANE0R-D"
   },
   "outputs": [
    {
     "data": {
      "image/png": "[encoded data removed]",
      "text/plain": [
       "<Figure size 432x288 with 1 Axes>"
      ]
     },
     "metadata": {},
     "output_type": "display_data"
    }
   ],
   "source": [
    "#Visualization of frequency of words\n",
    "plt.bar(aut['Author'],aut['Sum_of_articles'])\n",
    "plt.xlabel(\"Author\")\n",
    "plt.ylabel(\"Sum_of_articles\")\n",
    "plt.title(\"Sum_of_articles from all Author\")\n",
    "plt.xticks(rotation=90)\n",
    "plt.show();"
   ]
  },
  {
   "cell_type": "code",
   "execution_count": 30,
   "metadata": {
    "colab": {
     "base_uri": "https://localhost:8080/",
     "height": 204
    },
    "id": "NTazFtVcioxK",
    "outputId": "fb6e70cd-817c-4212-8b8e-f171a42b6a47"
   },
   "outputs": [
    {
     "data": {
      "text/html": [
       "<div>\n",
       "<style scoped>\n",
       "    .dataframe tbody tr th:only-of-type {\n",
       "        vertical-align: middle;\n",
       "    }\n",
       "\n",
       "    .dataframe tbody tr th {\n",
       "        vertical-align: top;\n",
       "    }\n",
       "\n",
       "    .dataframe thead th {\n",
       "        text-align: right;\n",
       "    }\n",
       "</style>\n",
       "<table border=\"1\" class=\"dataframe\">\n",
       "  <thead>\n",
       "    <tr style=\"text-align: right;\">\n",
       "      <th></th>\n",
       "      <th>Publisher</th>\n",
       "      <th>Article Title</th>\n",
       "      <th>Sum_of_articles</th>\n",
       "    </tr>\n",
       "  </thead>\n",
       "  <tbody>\n",
       "    <tr>\n",
       "      <th>0</th>\n",
       "      <td>Academic Press Inc.</td>\n",
       "      <td>Business strategies and management accounting ...</td>\n",
       "      <td>1</td>\n",
       "    </tr>\n",
       "    <tr>\n",
       "      <th>1</th>\n",
       "      <td>Academy of Management</td>\n",
       "      <td>State of Undergraduate Business Education: A P...</td>\n",
       "      <td>1</td>\n",
       "    </tr>\n",
       "    <tr>\n",
       "      <th>2</th>\n",
       "      <td>Danubius University of Galati, Faculty of Law</td>\n",
       "      <td>The Companies and the Climate Change: Differen...</td>\n",
       "      <td>1</td>\n",
       "    </tr>\n",
       "    <tr>\n",
       "      <th>3</th>\n",
       "      <td>Ediciones Universidad de Navarra, SA</td>\n",
       "      <td>Cambio climático y responsabilidad empresarial...</td>\n",
       "      <td>1</td>\n",
       "    </tr>\n",
       "    <tr>\n",
       "      <th>4</th>\n",
       "      <td>Elsevier B.V.</td>\n",
       "      <td>A multilevel approach for assessing business s...</td>\n",
       "      <td>1</td>\n",
       "    </tr>\n",
       "    <tr>\n",
       "      <th>5</th>\n",
       "      <td>Elsevier B.V.</td>\n",
       "      <td>Management of landfill reclamation with regard...</td>\n",
       "      <td>1</td>\n",
       "    </tr>\n",
       "    <tr>\n",
       "      <th>6</th>\n",
       "      <td>Elsevier B.V.</td>\n",
       "      <td>Social and organizational learning in the adap...</td>\n",
       "      <td>1</td>\n",
       "    </tr>\n",
       "    <tr>\n",
       "      <th>7</th>\n",
       "      <td>Elsevier B.V.</td>\n",
       "      <td>Voluntary business engagement in climate chang...</td>\n",
       "      <td>1</td>\n",
       "    </tr>\n",
       "    <tr>\n",
       "      <th>8</th>\n",
       "      <td>Elsevier B.V.</td>\n",
       "      <td>Worktime Reduction as a Solution to Climate Ch...</td>\n",
       "      <td>1</td>\n",
       "    </tr>\n",
       "    <tr>\n",
       "      <th>9</th>\n",
       "      <td>Emerald Publishing Limited</td>\n",
       "      <td>Climate change as a corporate strategy issue: ...</td>\n",
       "      <td>1</td>\n",
       "    </tr>\n",
       "    <tr>\n",
       "      <th>10</th>\n",
       "      <td>Emerald Publishing Limited</td>\n",
       "      <td>Talking about climate change: The engagement w...</td>\n",
       "      <td>1</td>\n",
       "    </tr>\n",
       "    <tr>\n",
       "      <th>11</th>\n",
       "      <td>Institute of Business Administration Karachi</td>\n",
       "      <td>BUSINESS AND CLIMATE CHANGE: TRENDS, ISSUES AN...</td>\n",
       "      <td>1</td>\n",
       "    </tr>\n",
       "    <tr>\n",
       "      <th>12</th>\n",
       "      <td>Sadhu Vaswani Institute of Management Studies ...</td>\n",
       "      <td>Re-contouring Business to Combat Climate Change.</td>\n",
       "      <td>1</td>\n",
       "    </tr>\n",
       "    <tr>\n",
       "      <th>13</th>\n",
       "      <td>Springer Nature</td>\n",
       "      <td>Climate change adaptation across businesses in...</td>\n",
       "      <td>1</td>\n",
       "    </tr>\n",
       "    <tr>\n",
       "      <th>14</th>\n",
       "      <td>Springer Nature</td>\n",
       "      <td>Multinational enterprises and climate change: ...</td>\n",
       "      <td>1</td>\n",
       "    </tr>\n",
       "    <tr>\n",
       "      <th>15</th>\n",
       "      <td>Springer Nature</td>\n",
       "      <td>The function of international business framewo...</td>\n",
       "      <td>1</td>\n",
       "    </tr>\n",
       "    <tr>\n",
       "      <th>16</th>\n",
       "      <td>Taylor &amp; Francis Ltd</td>\n",
       "      <td>After the green gold rush: the construction of...</td>\n",
       "      <td>1</td>\n",
       "    </tr>\n",
       "    <tr>\n",
       "      <th>17</th>\n",
       "      <td>Taylor &amp; Francis Ltd</td>\n",
       "      <td>Climate Change Governance in the South African...</td>\n",
       "      <td>1</td>\n",
       "    </tr>\n",
       "    <tr>\n",
       "      <th>18</th>\n",
       "      <td>Taylor &amp; Francis Ltd</td>\n",
       "      <td>Climate change reporting and multinational com...</td>\n",
       "      <td>1</td>\n",
       "    </tr>\n",
       "    <tr>\n",
       "      <th>19</th>\n",
       "      <td>Taylor &amp; Francis Ltd</td>\n",
       "      <td>Factors contributing to business actions in re...</td>\n",
       "      <td>1</td>\n",
       "    </tr>\n",
       "  </tbody>\n",
       "</table>\n",
       "</div>"
      ],
      "text/plain": [
       "                                            Publisher  \\\n",
       "0                                 Academic Press Inc.   \n",
       "1                               Academy of Management   \n",
       "2       Danubius University of Galati, Faculty of Law   \n",
       "3                Ediciones Universidad de Navarra, SA   \n",
       "4                                       Elsevier B.V.   \n",
       "5                                       Elsevier B.V.   \n",
       "6                                       Elsevier B.V.   \n",
       "7                                       Elsevier B.V.   \n",
       "8                                       Elsevier B.V.   \n",
       "9                          Emerald Publishing Limited   \n",
       "10                         Emerald Publishing Limited   \n",
       "11       Institute of Business Administration Karachi   \n",
       "12  Sadhu Vaswani Institute of Management Studies ...   \n",
       "13                                    Springer Nature   \n",
       "14                                    Springer Nature   \n",
       "15                                    Springer Nature   \n",
       "16                               Taylor & Francis Ltd   \n",
       "17                               Taylor & Francis Ltd   \n",
       "18                               Taylor & Francis Ltd   \n",
       "19                               Taylor & Francis Ltd   \n",
       "\n",
       "                                        Article Title  Sum_of_articles  \n",
       "0   Business strategies and management accounting ...                1  \n",
       "1   State of Undergraduate Business Education: A P...                1  \n",
       "2   The Companies and the Climate Change: Differen...                1  \n",
       "3   Cambio climático y responsabilidad empresarial...                1  \n",
       "4   A multilevel approach for assessing business s...                1  \n",
       "5   Management of landfill reclamation with regard...                1  \n",
       "6   Social and organizational learning in the adap...                1  \n",
       "7   Voluntary business engagement in climate chang...                1  \n",
       "8   Worktime Reduction as a Solution to Climate Ch...                1  \n",
       "9   Climate change as a corporate strategy issue: ...                1  \n",
       "10  Talking about climate change: The engagement w...                1  \n",
       "11  BUSINESS AND CLIMATE CHANGE: TRENDS, ISSUES AN...                1  \n",
       "12   Re-contouring Business to Combat Climate Change.                1  \n",
       "13  Climate change adaptation across businesses in...                1  \n",
       "14  Multinational enterprises and climate change: ...                1  \n",
       "15  The function of international business framewo...                1  \n",
       "16  After the green gold rush: the construction of...                1  \n",
       "17  Climate Change Governance in the South African...                1  \n",
       "18  Climate change reporting and multinational com...                1  \n",
       "19  Factors contributing to business actions in re...                1  "
      ]
     },
     "execution_count": 30,
     "metadata": {},
     "output_type": "execute_result"
    }
   ],
   "source": [
    "#Which article are mostly considered by publishers\n",
    "pip=data.groupby(['Publisher','Article Title']).size().reset_index(name='Sum_of_articles')[:20]\n",
    "pip"
   ]
  },
  {
   "cell_type": "code",
   "execution_count": 31,
   "metadata": {},
   "outputs": [
    {
     "data": {
      "image/png": "[encoded data removed]",
      "text/plain": [
       "<Figure size 432x288 with 1 Axes>"
      ]
     },
     "metadata": {},
     "output_type": "display_data"
    }
   ],
   "source": [
    "#Visualization of frequency of words\n",
    "plt.bar(pip['Publisher'],pip['Sum_of_articles'])\n",
    "plt.xlabel(\"Publisher\")\n",
    "plt.ylabel(\"Sum_of_articles\")\n",
    "plt.title(\"Sum_of_articles from all Publisher\")\n",
    "plt.xticks(rotation=90)\n",
    "plt.show();"
   ]
  }
 ],
 "metadata": {
  "colab": {
   "name": "Research.ipynb",
   "provenance": []
  },
  "kernelspec": {
   "display_name": "Python 3",
   "language": "python",
   "name": "python3"
  },
  "language_info": {
   "codemirror_mode": {
    "name": "ipython",
    "version": 3
   },
   "file_extension": ".py",
   "mimetype": "text/x-python",
   "name": "python",
   "nbconvert_exporter": "python",
   "pygments_lexer": "ipython3",
   "version": "3.8.5"
  }
 },
 "nbformat": 4,
 "nbformat_minor": 1
}
